{
 "cells": [
  {
   "cell_type": "markdown",
   "metadata": {},
   "source": [
    "# Parameterized transformer networks"
   ]
  },
  {
   "cell_type": "code",
   "execution_count": 38,
   "metadata": {
    "collapsed": true
   },
   "outputs": [],
   "source": [
    "%matplotlib inline\n",
    "import matplotlib.pyplot as plt\n",
    "import numpy as np\n",
    "\n",
    "plt.rcParams[\"figure.figsize\"] = (10, 10)"
   ]
  },
  {
   "cell_type": "code",
   "execution_count": 39,
   "metadata": {
    "collapsed": false
   },
   "outputs": [
    {
     "name": "stdout",
     "output_type": "stream",
     "text": [
      "[-2, -2, -2, 0, 0, 0, 2, 2, 2] [0.5, 1.0, 1.5, 0.5, 1.0, 1.5, 0.5, 1.0, 1.5]\n"
     ]
    }
   ],
   "source": [
    "# grid of parameter values for training\n",
    "mus = [-2, 0, 2]\n",
    "sigmas = [0.5, 1.0, 1.5]\n",
    "n_params = 2\n",
    "\n",
    "from itertools import product\n",
    "p = list(product(mus, sigmas))\n",
    "mus = [mu for mu, _ in p]\n",
    "sigmas = [sigma for _, sigma in p]\n",
    "\n",
    "print(mus, sigmas)"
   ]
  },
  {
   "cell_type": "code",
   "execution_count": 40,
   "metadata": {
    "collapsed": false
   },
   "outputs": [
    {
     "name": "stderr",
     "output_type": "stream",
     "text": [
      "/home/gilles/src/carl/carl/distributions/base.py:128: UserWarning: The Param class is deprecated. Replace Param(default=N) by theano.In(value=N)\n",
      "  [theano.Param(v, name=v.name) for v in args] +\n"
     ]
    }
   ],
   "source": [
    "from carl.distributions import Normal\n",
    "import theano\n",
    "\n",
    "mu = theano.shared(0.0)\n",
    "sigma = theano.shared(1.0)\n",
    "p0 = Normal(mu=mu, sigma=sigma)  # target|mu,sigma\n",
    "\n",
    "X0 = []\n",
    "\n",
    "for m, s in zip(mus, sigmas):\n",
    "    mu.set_value(m)\n",
    "    sigma.set_value(s)   \n",
    "    X0.append(p0.rvs(5000))\n",
    "    \n",
    "p1 = Normal(mu=0, sigma=1.0)  # source\n",
    "X1 = [p1.rvs(5000) for i in range(len(X0))]"
   ]
  },
  {
   "cell_type": "code",
   "execution_count": 41,
   "metadata": {
    "collapsed": false
   },
   "outputs": [],
   "source": [
    "import keras.backend as K\n",
    "from keras.models import Sequential\n",
    "from keras.layers.core import Dense, Merge, Reshape\n",
    "from keras.layers.advanced_activations import LeakyReLU\n",
    "\n",
    "# D\n",
    "D = Sequential()\n",
    "D.add(Dense(12, input_dim=X0[0].shape[1] + n_params, activation=LeakyReLU()))\n",
    "D.add(Dense(12, input_dim=12, activation=LeakyReLU()))\n",
    "D.add(Dense(12, input_dim=12, activation=LeakyReLU()))\n",
    "D.add(Dense(12, input_dim=12, activation=LeakyReLU()))\n",
    "D.add(Dense(1, input_dim=12, activation='sigmoid'))\n",
    "\n",
    "def loss_D(y_true, y_pred):\n",
    "    return -((1.0 - y_true) * (K.log(1.0 - y_pred)) + \n",
    "             (y_true) * (K.log(y_pred)))  \n",
    "\n",
    "# G\n",
    "G = Sequential()\n",
    "G.add(Dense(12, input_dim=X1[0].shape[1] + n_params, activation=LeakyReLU()))\n",
    "G.add(Dense(12, input_dim=12, activation=LeakyReLU()))\n",
    "G.add(Dense(12, input_dim=12, activation=LeakyReLU()))\n",
    "G.add(Dense(12, input_dim=12, activation=LeakyReLU()))\n",
    "G.add(Dense(X0[0].shape[1], input_dim=12, activation='linear'))\n",
    "G.compile(loss=\"mse\", optimizer=\"sgd\")  \n",
    "\n",
    "identity = Sequential()\n",
    "identity.add(Reshape(input_shape=(n_params,), dims=(n_params,)))\n",
    "identity.trainable = False\n",
    "\n",
    "GD = Sequential()  \n",
    "GD.add(Merge([G, identity], mode=\"concat\"))   # need to pass params, otherwise X0 is seen as the mixture\n",
    "D.trainable = False\n",
    "GD.add(D)\n",
    "\n",
    "def loss_GD(y_true, y_pred):\n",
    "    return y_true * (K.log(y_pred))\n",
    "\n",
    "# Compile\n",
    "D.compile(loss=loss_D, optimizer=\"sgd\")\n",
    "GD.compile(loss=loss_GD, optimizer=\"sgd\")"
   ]
  },
  {
   "cell_type": "code",
   "execution_count": 55,
   "metadata": {
    "collapsed": false
   },
   "outputs": [],
   "source": [
    "def plot_distribution(G, mu, sigma, X1):\n",
    "    plt.hist(X1, bins=100, range=(-5, 5), alpha=0.5, \n",
    "             label=\"x~p1\", normed=1, histtype=\"step\")\n",
    "    \n",
    "    params = np.zeros((len(X1), n_params))\n",
    "    params[:, 0] = mu\n",
    "    params[:, 1] = sigma\n",
    "    X = np.hstack((X1, params))\n",
    "    Xt = G.predict(X)\n",
    "    plt.hist(Xt, bins=100, range=(-5, 5), alpha=0.5, \n",
    "             label=\"G(x;mu=%.2f, sigma=%.2f), x~p1\" % (mu, sigma), \n",
    "             normed=1, histtype=\"step\")\n",
    "    \n",
    "    plt.text(-4.5, 0.9, \"mu=%.2f, sigma=%.2f\" % (np.mean(Xt), np.std(Xt)))\n",
    "\n",
    "    plt.xlim(-5, 5)\n",
    "    plt.ylim(0, 1)\n",
    "    plt.legend(loc=\"best\")\n",
    "    plt.show()"
   ]
  },
  {
   "cell_type": "code",
   "execution_count": 61,
   "metadata": {
    "collapsed": false
   },
   "outputs": [
    {
     "name": "stdout",
     "output_type": "stream",
     "text": [
      "0\n",
      "250\n",
      "500\n",
      "750\n",
      "1000\n",
      "1250\n",
      "1500\n",
      "1750\n",
      "2000\n",
      "2250\n",
      "2500\n",
      "2750\n",
      "3000\n",
      "3250\n",
      "3500\n",
      "3750\n",
      "4000\n",
      "4250\n",
      "4500\n",
      "4750\n",
      "5000\n",
      "5250\n",
      "5500\n",
      "5750\n",
      "6000\n",
      "6250\n",
      "6500\n",
      "6750\n",
      "7000\n",
      "7250\n",
      "7500\n",
      "7750\n",
      "8000\n",
      "8250\n",
      "8500\n",
      "8750\n",
      "9000\n",
      "9250\n",
      "9500\n",
      "9750\n"
     ]
    }
   ],
   "source": [
    "batch_size = 16\n",
    "\n",
    "y_D = np.zeros(batch_size)\n",
    "y_D[batch_size // 2:] = 1\n",
    "y_GD = np.ones(batch_size)\n",
    "\n",
    "params = np.zeros((batch_size, n_params))\n",
    "\n",
    "for i in range(10000):\n",
    "    if i % 250 == 0: print(i)\n",
    "        \n",
    "    # XXX: optimize all parameters jointly instead of sequentially\n",
    "        \n",
    "    for j, (mu, sigma) in enumerate(zip(mus, sigmas)):\n",
    "        params[:, 0] = mu\n",
    "        params[:, 1] = sigma\n",
    "        \n",
    "        # fit D \n",
    "        indices0 = np.random.permutation(len(X0[j]))\n",
    "        indices1 = np.random.permutation(len(X1[j]))\n",
    "        X = np.vstack((X0[j][indices0[:batch_size // 2]],\n",
    "                       G.predict(np.hstack((X1[j][indices1[:batch_size // 2]],\n",
    "                                            params[:batch_size // 2])))))\n",
    "        X = np.hstack((X, params))\n",
    "        D.fit(X, y_D, nb_epoch=3, verbose=0)\n",
    "\n",
    "        # fit GD   \n",
    "        indices1 = np.random.permutation(len(X1[j]))\n",
    "        X = X1[j][indices1[:batch_size]]       \n",
    "        GD.fit([np.hstack((X, params)), params], y_GD, nb_epoch=1, verbose=0)"
   ]
  },
  {
   "cell_type": "code",
   "execution_count": 62,
   "metadata": {
    "collapsed": false
   },
   "outputs": [
    {
     "data": {
      "image/png": "[encoded data removed]",
      "text/plain": [
       "<matplotlib.figure.Figure at 0x7f36c232a1d0>"
      ]
     },
     "metadata": {},
     "output_type": "display_data"
    }
   ],
   "source": [
    "from ipywidgets import interact, FloatSlider\n",
    "\n",
    "def plot(mu, sigma):\n",
    "    plot_distribution(G, mu, sigma, X1[0])\n",
    "    \n",
    "interact(plot, mu=FloatSlider(value=0.0, min=-2, max=2, step=0.05),\n",
    "         sigma=FloatSlider(value=1.0, min=0.5, max=1.5, step=0.05))"
   ]
  }
 ],
 "metadata": {
  "kernelspec": {
   "display_name": "Python 3",
   "language": "python",
   "name": "python3"
  },
  "language_info": {
   "codemirror_mode": {
    "name": "ipython",
    "version": 3
   },
   "file_extension": ".py",
   "mimetype": "text/x-python",
   "name": "python",
   "nbconvert_exporter": "python",
   "pygments_lexer": "ipython3",
   "version": "3.5.1"
  }
 },
 "nbformat": 4,
 "nbformat_minor": 0
}
